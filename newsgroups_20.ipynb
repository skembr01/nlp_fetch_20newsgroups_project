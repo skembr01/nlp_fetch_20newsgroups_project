{
 "cells": [
  {
   "cell_type": "code",
   "execution_count": 1,
   "id": "f9c336c5",
   "metadata": {},
   "outputs": [],
   "source": [
    "import numpy as np\n",
    "import pandas as pd\n",
    "from sklearn.datasets import fetch_20newsgroups\n",
    "from matplotlib import pyplot as plt\n",
    "import altair as alt\n",
    "import string\n",
    "import re\n",
    "from nltk.corpus import stopwords\n",
    "from nltk.tokenize import word_tokenize\n",
    "from sklearn.model_selection import train_test_split\n",
    "from sklearn.feature_extraction.text import TfidfVectorizer\n",
    "from sklearn.decomposition import NMF\n",
    "from sklearn.feature_extraction.text import CountVectorizer\n",
    "from sklearn.utils.extmath import randomized_svd"
   ]
  },
  {
   "cell_type": "markdown",
   "id": "98edc52b",
   "metadata": {},
   "source": [
    "<h2>Data and Objective</h2>\n",
    "\n",
    "The data used in this project comes from scikit-learn's dataset and is the fetch_20newsgroups. This data contains approximately 18000 posts from 20 different news groups (these are essentially like the precursor to Reddit threads and were around in the 1980-1990s). The data contains the text of each post and the asociated thread it was posted into. Thus, this data provides us with a natural language processing (NLP) problem, with a particular emphasis on topic modeling. It is my objective to use unsupervised learning algorithms (even though the labels are provided) to create and determine which topics each text applies to. I will utilize nonnegative matrix factorization (NMF), singular value decomposition (SVD) to illuminate the topics and how the posts belong to them. "
   ]
  },
  {
   "cell_type": "code",
   "execution_count": 2,
   "id": "9256d817",
   "metadata": {},
   "outputs": [],
   "source": [
    "#Loading in the data in the train and testing subsets as formed in sklearn\n",
    "train = fetch_20newsgroups(subset='train')\n",
    "test = fetch_20newsgroups(subset='test')"
   ]
  },
  {
   "cell_type": "markdown",
   "id": "4c1c6050",
   "metadata": {},
   "source": [
    "<h2>EDA</h2>\n",
    "\n",
    "As the data was not in a dataframe, my first step was creating training and testing datasets and I also created a y_train/y_test dataset. Further, I created a mapping dataframe which provides each thread and its given numerical value in X_train/X_test data. Next, I checked for null values and did not find any. Then, I ensured there were no duplicate posts. My next step was to create a couple of histograms detailing how many posts were in the data among by topic in both the training and testing set. I utilized altair for this and was surprised to find the distribution of posts by topic to be so similar among training and testing sets."
   ]
  },
  {
   "cell_type": "code",
   "execution_count": 3,
   "id": "69982550",
   "metadata": {},
   "outputs": [],
   "source": [
    "#Making training and testing X and y dataframes from the data\n",
    "X_train = pd.DataFrame([train.data, train.target.tolist()]).T\n",
    "X_train.columns = ['text', 'target']\n",
    "y_train = pd.DataFrame([train.target.tolist()]).T\n",
    "y_train.columns = ['target']\n",
    "\n",
    "\n",
    "X_test = pd.DataFrame([test.data, test.target.tolist()]).T\n",
    "X_test.columns = ['text', 'target']\n",
    "y_test = pd.DataFrame([test.target.tolist()]).T\n",
    "y_test.columns = ['target']\n",
    "\n",
    "#A Mapping that connects the int label to each category\n",
    "mapping = pd.DataFrame(train.target_names)\n",
    "mapping.columns=['label']\n"
   ]
  },
  {
   "cell_type": "code",
   "execution_count": 4,
   "id": "2f0fa440",
   "metadata": {},
   "outputs": [],
   "source": [
    "#NA\n",
    "train_null = X_train.isna().sum().sum()\n",
    "if train_null > 0:\n",
    "    print(train_null)\n",
    "test_null = X_test.isna().sum().sum()\n",
    "if test_null > 0:\n",
    "    print(test_null)\n",
    "    "
   ]
  },
  {
   "cell_type": "code",
   "execution_count": 5,
   "id": "310601fa",
   "metadata": {},
   "outputs": [
    {
     "name": "stdout",
     "output_type": "stream",
     "text": [
      "Train:\n",
      "<class 'pandas.core.frame.DataFrame'>\n",
      "RangeIndex: 11314 entries, 0 to 11313\n",
      "Data columns (total 2 columns):\n",
      " #   Column  Non-Null Count  Dtype \n",
      "---  ------  --------------  ----- \n",
      " 0   text    11314 non-null  object\n",
      " 1   target  11314 non-null  object\n",
      "dtypes: object(2)\n",
      "memory usage: 176.9+ KB\n",
      "None\n",
      "\n",
      "\n",
      "Test:\n",
      "<class 'pandas.core.frame.DataFrame'>\n",
      "RangeIndex: 7532 entries, 0 to 7531\n",
      "Data columns (total 2 columns):\n",
      " #   Column  Non-Null Count  Dtype \n",
      "---  ------  --------------  ----- \n",
      " 0   text    7532 non-null   object\n",
      " 1   target  7532 non-null   object\n",
      "dtypes: object(2)\n",
      "memory usage: 117.8+ KB\n"
     ]
    }
   ],
   "source": [
    "print('Train:')\n",
    "print(X_train.info())\n",
    "print('\\n')\n",
    "print('Test:')\n",
    "X_test.info()"
   ]
  },
  {
   "cell_type": "code",
   "execution_count": 25,
   "id": "f0e5c369",
   "metadata": {},
   "outputs": [
    {
     "name": "stdout",
     "output_type": "stream",
     "text": [
      "Train:\n"
     ]
    },
    {
     "data": {
      "text/html": [
       "<div>\n",
       "<style scoped>\n",
       "    .dataframe tbody tr th:only-of-type {\n",
       "        vertical-align: middle;\n",
       "    }\n",
       "\n",
       "    .dataframe tbody tr th {\n",
       "        vertical-align: top;\n",
       "    }\n",
       "\n",
       "    .dataframe thead th {\n",
       "        text-align: right;\n",
       "    }\n",
       "</style>\n",
       "<table border=\"1\" class=\"dataframe\">\n",
       "  <thead>\n",
       "    <tr style=\"text-align: right;\">\n",
       "      <th></th>\n",
       "      <th>text</th>\n",
       "      <th>target</th>\n",
       "    </tr>\n",
       "  </thead>\n",
       "  <tbody>\n",
       "    <tr>\n",
       "      <th>count</th>\n",
       "      <td>11314</td>\n",
       "      <td>11314</td>\n",
       "    </tr>\n",
       "    <tr>\n",
       "      <th>unique</th>\n",
       "      <td>11312</td>\n",
       "      <td>20</td>\n",
       "    </tr>\n",
       "    <tr>\n",
       "      <th>top</th>\n",
       "      <td>jlleeacsubuffaloedu johnny l lee subject movin...</td>\n",
       "      <td>10</td>\n",
       "    </tr>\n",
       "    <tr>\n",
       "      <th>freq</th>\n",
       "      <td>2</td>\n",
       "      <td>600</td>\n",
       "    </tr>\n",
       "  </tbody>\n",
       "</table>\n",
       "</div>"
      ],
      "text/plain": [
       "                                                     text  target\n",
       "count                                               11314   11314\n",
       "unique                                              11312      20\n",
       "top     jlleeacsubuffaloedu johnny l lee subject movin...      10\n",
       "freq                                                    2     600"
      ]
     },
     "execution_count": 25,
     "metadata": {},
     "output_type": "execute_result"
    }
   ],
   "source": [
    "print('Train:')\n",
    "X_train.describe()"
   ]
  },
  {
   "cell_type": "code",
   "execution_count": 7,
   "id": "75ef27ea",
   "metadata": {},
   "outputs": [
    {
     "name": "stdout",
     "output_type": "stream",
     "text": [
      "Test:\n",
      "                                                     text  target\n",
      "count                                                7532    7532\n",
      "unique                                               7532      20\n",
      "top     From: v064mb9k@ubvmsd.cc.buffalo.edu (NEIL B. ...      10\n",
      "freq                                                    1     399\n",
      "\n",
      "\n"
     ]
    }
   ],
   "source": [
    "print('Test:')\n",
    "X_test.describe()"
   ]
  },
  {
   "cell_type": "code",
   "execution_count": 8,
   "id": "b48d1622",
   "metadata": {},
   "outputs": [
    {
     "data": {
      "text/html": [
       "\n",
       "<div id=\"altair-viz-7d78e3520d0d41ff94ae75bcc008c70b\"></div>\n",
       "<script type=\"text/javascript\">\n",
       "  (function(spec, embedOpt){\n",
       "    let outputDiv = document.currentScript.previousElementSibling;\n",
       "    if (outputDiv.id !== \"altair-viz-7d78e3520d0d41ff94ae75bcc008c70b\") {\n",
       "      outputDiv = document.getElementById(\"altair-viz-7d78e3520d0d41ff94ae75bcc008c70b\");\n",
       "    }\n",
       "    const paths = {\n",
       "      \"vega\": \"https://cdn.jsdelivr.net/npm//vega@5?noext\",\n",
       "      \"vega-lib\": \"https://cdn.jsdelivr.net/npm//vega-lib?noext\",\n",
       "      \"vega-lite\": \"https://cdn.jsdelivr.net/npm//vega-lite@4.8.1?noext\",\n",
       "      \"vega-embed\": \"https://cdn.jsdelivr.net/npm//vega-embed@6?noext\",\n",
       "    };\n",
       "\n",
       "    function loadScript(lib) {\n",
       "      return new Promise(function(resolve, reject) {\n",
       "        var s = document.createElement('script');\n",
       "        s.src = paths[lib];\n",
       "        s.async = true;\n",
       "        s.onload = () => resolve(paths[lib]);\n",
       "        s.onerror = () => reject(`Error loading script: ${paths[lib]}`);\n",
       "        document.getElementsByTagName(\"head\")[0].appendChild(s);\n",
       "      });\n",
       "    }\n",
       "\n",
       "    function showError(err) {\n",
       "      outputDiv.innerHTML = `<div class=\"error\" style=\"color:red;\">${err}</div>`;\n",
       "      throw err;\n",
       "    }\n",
       "\n",
       "    function displayChart(vegaEmbed) {\n",
       "      vegaEmbed(outputDiv, spec, embedOpt)\n",
       "        .catch(err => showError(`Javascript Error: ${err.message}<br>This usually means there's a typo in your chart specification. See the javascript console for the full traceback.`));\n",
       "    }\n",
       "\n",
       "    if(typeof define === \"function\" && define.amd) {\n",
       "      requirejs.config({paths});\n",
       "      require([\"vega-embed\"], displayChart, err => showError(`Error loading script: ${err.message}`));\n",
       "    } else if (typeof vegaEmbed === \"function\") {\n",
       "      displayChart(vegaEmbed);\n",
       "    } else {\n",
       "      loadScript(\"vega\")\n",
       "        .then(() => loadScript(\"vega-lite\"))\n",
       "        .then(() => loadScript(\"vega-embed\"))\n",
       "        .catch(showError)\n",
       "        .then(() => displayChart(vegaEmbed));\n",
       "    }\n",
       "  })({\"config\": {\"view\": {\"continuousWidth\": 400, \"continuousHeight\": 300}}, \"data\": {\"name\": \"data-c69a082d7627efe98243ed4da2f228dc\"}, \"mark\": \"bar\", \"encoding\": {\"tooltip\": [{\"type\": \"quantitative\", \"field\": \"topics\"}, {\"type\": \"quantitative\", \"field\": \"counts\"}], \"x\": {\"type\": \"nominal\", \"field\": \"topics\"}, \"y\": {\"type\": \"quantitative\", \"field\": \"counts\"}}, \"selection\": {\"selector001\": {\"type\": \"interval\", \"bind\": \"scales\", \"encodings\": [\"x\", \"y\"]}}, \"title\": \"Counts of Posts by Topic in Train Set\", \"$schema\": \"https://vega.github.io/schema/vega-lite/v4.8.1.json\", \"datasets\": {\"data-c69a082d7627efe98243ed4da2f228dc\": [{\"topics\": 10, \"counts\": 600}, {\"topics\": 15, \"counts\": 599}, {\"topics\": 8, \"counts\": 598}, {\"topics\": 9, \"counts\": 597}, {\"topics\": 11, \"counts\": 595}, {\"topics\": 7, \"counts\": 594}, {\"topics\": 13, \"counts\": 594}, {\"topics\": 5, \"counts\": 593}, {\"topics\": 14, \"counts\": 593}, {\"topics\": 2, \"counts\": 591}, {\"topics\": 12, \"counts\": 591}, {\"topics\": 3, \"counts\": 590}, {\"topics\": 1, \"counts\": 585}, {\"topics\": 6, \"counts\": 584}, {\"topics\": 4, \"counts\": 578}, {\"topics\": 17, \"counts\": 564}, {\"topics\": 16, \"counts\": 546}, {\"topics\": 0, \"counts\": 480}, {\"topics\": 18, \"counts\": 465}, {\"topics\": 19, \"counts\": 377}]}}, {\"mode\": \"vega-lite\"});\n",
       "</script>"
      ],
      "text/plain": [
       "alt.Chart(...)"
      ]
     },
     "execution_count": 8,
     "metadata": {},
     "output_type": "execute_result"
    }
   ],
   "source": [
    "#Plotting Number of Posts by Topic\n",
    "\n",
    "chart_df = pd.DataFrame(X_train.target.value_counts())\n",
    "chart_df\n",
    "topics = [10,15,8,9,11,7,13,5,14,2,12,3,1,6,4,17,16,0,18,19]\n",
    "data = {'topics': topics, 'counts': chart_df.target}\n",
    "plot_df = pd.DataFrame(data, columns=['topics', 'counts'])\n",
    "plot_df\n",
    "\n",
    "train_hist = alt.Chart(plot_df).mark_bar().encode(\n",
    "    x='topics:N',\n",
    "    y='counts',\n",
    "    tooltip=['topics', 'counts']\n",
    ").properties(title='Counts of Posts by Topic in Train Set').interactive()\n",
    "train_hist"
   ]
  },
  {
   "cell_type": "code",
   "execution_count": 9,
   "id": "7721d0a5",
   "metadata": {},
   "outputs": [
    {
     "data": {
      "text/html": [
       "\n",
       "<div id=\"altair-viz-df9f35eb1fd443e48699ba2925292dd5\"></div>\n",
       "<script type=\"text/javascript\">\n",
       "  (function(spec, embedOpt){\n",
       "    let outputDiv = document.currentScript.previousElementSibling;\n",
       "    if (outputDiv.id !== \"altair-viz-df9f35eb1fd443e48699ba2925292dd5\") {\n",
       "      outputDiv = document.getElementById(\"altair-viz-df9f35eb1fd443e48699ba2925292dd5\");\n",
       "    }\n",
       "    const paths = {\n",
       "      \"vega\": \"https://cdn.jsdelivr.net/npm//vega@5?noext\",\n",
       "      \"vega-lib\": \"https://cdn.jsdelivr.net/npm//vega-lib?noext\",\n",
       "      \"vega-lite\": \"https://cdn.jsdelivr.net/npm//vega-lite@4.8.1?noext\",\n",
       "      \"vega-embed\": \"https://cdn.jsdelivr.net/npm//vega-embed@6?noext\",\n",
       "    };\n",
       "\n",
       "    function loadScript(lib) {\n",
       "      return new Promise(function(resolve, reject) {\n",
       "        var s = document.createElement('script');\n",
       "        s.src = paths[lib];\n",
       "        s.async = true;\n",
       "        s.onload = () => resolve(paths[lib]);\n",
       "        s.onerror = () => reject(`Error loading script: ${paths[lib]}`);\n",
       "        document.getElementsByTagName(\"head\")[0].appendChild(s);\n",
       "      });\n",
       "    }\n",
       "\n",
       "    function showError(err) {\n",
       "      outputDiv.innerHTML = `<div class=\"error\" style=\"color:red;\">${err}</div>`;\n",
       "      throw err;\n",
       "    }\n",
       "\n",
       "    function displayChart(vegaEmbed) {\n",
       "      vegaEmbed(outputDiv, spec, embedOpt)\n",
       "        .catch(err => showError(`Javascript Error: ${err.message}<br>This usually means there's a typo in your chart specification. See the javascript console for the full traceback.`));\n",
       "    }\n",
       "\n",
       "    if(typeof define === \"function\" && define.amd) {\n",
       "      requirejs.config({paths});\n",
       "      require([\"vega-embed\"], displayChart, err => showError(`Error loading script: ${err.message}`));\n",
       "    } else if (typeof vegaEmbed === \"function\") {\n",
       "      displayChart(vegaEmbed);\n",
       "    } else {\n",
       "      loadScript(\"vega\")\n",
       "        .then(() => loadScript(\"vega-lite\"))\n",
       "        .then(() => loadScript(\"vega-embed\"))\n",
       "        .catch(showError)\n",
       "        .then(() => displayChart(vegaEmbed));\n",
       "    }\n",
       "  })({\"config\": {\"view\": {\"continuousWidth\": 400, \"continuousHeight\": 300}}, \"data\": {\"name\": \"data-8e94584588924aeb9e0a5ed5be66f7fd\"}, \"mark\": \"bar\", \"encoding\": {\"tooltip\": [{\"type\": \"quantitative\", \"field\": \"topics\"}, {\"type\": \"quantitative\", \"field\": \"counts\"}], \"x\": {\"type\": \"nominal\", \"field\": \"topics\"}, \"y\": {\"type\": \"quantitative\", \"field\": \"counts\"}}, \"selection\": {\"selector002\": {\"type\": \"interval\", \"bind\": \"scales\", \"encodings\": [\"x\", \"y\"]}}, \"title\": \"Counts of Posts by Topic in Test Set\", \"$schema\": \"https://vega.github.io/schema/vega-lite/v4.8.1.json\", \"datasets\": {\"data-8e94584588924aeb9e0a5ed5be66f7fd\": [{\"topics\": 10, \"counts\": 399}, {\"topics\": 15, \"counts\": 398}, {\"topics\": 8, \"counts\": 398}, {\"topics\": 9, \"counts\": 397}, {\"topics\": 7, \"counts\": 396}, {\"topics\": 11, \"counts\": 396}, {\"topics\": 13, \"counts\": 396}, {\"topics\": 14, \"counts\": 395}, {\"topics\": 2, \"counts\": 394}, {\"topics\": 5, \"counts\": 394}, {\"topics\": 3, \"counts\": 393}, {\"topics\": 12, \"counts\": 392}, {\"topics\": 6, \"counts\": 390}, {\"topics\": 1, \"counts\": 389}, {\"topics\": 4, \"counts\": 385}, {\"topics\": 17, \"counts\": 376}, {\"topics\": 16, \"counts\": 364}, {\"topics\": 0, \"counts\": 319}, {\"topics\": 18, \"counts\": 310}, {\"topics\": 19, \"counts\": 251}]}}, {\"mode\": \"vega-lite\"});\n",
       "</script>"
      ],
      "text/plain": [
       "alt.Chart(...)"
      ]
     },
     "execution_count": 9,
     "metadata": {},
     "output_type": "execute_result"
    }
   ],
   "source": [
    "#Plotting Number of Posts by Topic\n",
    "topics_t = [10, 15, 8, 9, 7, 11, 13, 14, 2, 5, 3, 12, 6, 1, 4, 17, 16, 0, 18, 19]\n",
    "data = {'topics': topics_t, 'counts': X_test.target.value_counts()}\n",
    "plot_t_df = pd.DataFrame(data, columns=['topics', 'counts'])\n",
    "test_hist = alt.Chart(plot_t_df).mark_bar().encode(\n",
    "    x='topics:N',\n",
    "    y='counts',\n",
    "    tooltip=['topics', 'counts']\n",
    ").properties(title='Counts of Posts by Topic in Test Set').interactive()\n",
    "test_hist"
   ]
  },
  {
   "cell_type": "markdown",
   "id": "0d52ab71",
   "metadata": {},
   "source": [
    "<h2>Working with Text Data</h2>\n",
    "\n",
    "When working with text, there oft needs to be cleaning in order for the models to work with the data. I began this by creating two functions to clean the posts. Firstly, I utilized a function which converts the whole post into lower case and which removes punctuation as determined by the string package. After applying this function to both training and test sets, I utlized my second function to remove stop words. Stop words are those which are quite common in the english value and often provide little signficance to the overall meaning of a text document. An example of these would be 'a', 'these', and 'so'. By removing these, the models can work on words which would have more import to the overall meaning. \n",
    "\n",
    "After this, I then utilized the method of topic frequency-inverse document frequency. The mathematics of this is:\n",
    "\n",
    "    term_frequency(tf) * inverse document frequency(idf),\n",
    "        tf = # of times word in document / # of terms in document\n",
    "        idf = log (# of documents / # of documents containing term)\n",
    "This is method is utilized to measure how important a word is to the overall document it is obtained from. The more times the word appears in a document, the more this importance grows (hence, we can see the importance of removing stopwords). In order to perform this I utilized scikit-learn to fit on the X_train and transform it and then transforming X_test. When this was completed, an entire vocabulary of 138,397 words were used. These methods also produced the data into sparse matrices as the large data may can lead to excessive runtimes."
   ]
  },
  {
   "cell_type": "code",
   "execution_count": 10,
   "id": "2e3e5628",
   "metadata": {},
   "outputs": [],
   "source": [
    "#Function to convert all text to lowercase and to remove punctuation found in string module's list of punctuation\n",
    "\n",
    "def lower_remove_punc(text):\n",
    "    text = text.lower()\n",
    "    removed = [words for words in text if words not in string.punctuation]\n",
    "    words_punc_removed = ''.join(removed)\n",
    "    return words_punc_removed\n",
    "\n",
    "X_train.text = X_train.text.apply(lambda x: lower_remove_punc(x))\n",
    "X_test.text = X_test.text.apply(lambda x: lower_remove_punc(x))\n",
    "\n",
    "#Function ro remove all stopwords that are found in nltk's list of english stopwords\n",
    "\n",
    "stop_words = set(stopwords.words('english'))\n",
    "#Removing NLTK stop words\n",
    "def remove_stopwords(text):\n",
    "    tokens = word_tokenize(text)\n",
    "    tokens_no_stop = [i for i in tokens if i not in stop_words]\n",
    "    tokens_filtered = (' ').join(tokens_no_stop)\n",
    "    return tokens_filtered\n",
    "\n",
    "X_train.text = X_train.text.apply(lambda x: remove_stopwords(x))\n",
    "X_test.text = X_test.text.apply(lambda x: remove_stopwords(x))\n"
   ]
  },
  {
   "cell_type": "code",
   "execution_count": 11,
   "id": "92a6ff77",
   "metadata": {},
   "outputs": [
    {
     "name": "stdout",
     "output_type": "stream",
     "text": [
      "Vector_tfidf shape: (11314, 138397)\n",
      "Vector_tfidf_test shape: (7532, 138397)\n",
      "Amount of Words in Vocab: 138397\n",
      "10 Words from Vocab: ['packagesx' 'packagesx11r5' 'packaging' 'packard' 'packards' 'packed'\n",
      " 'packedplanar' 'packedup' 'packer' 'packerdelphigsfcnasagov']\n"
     ]
    }
   ],
   "source": [
    "#TFIDF for Train data\n",
    "vectorizer = TfidfVectorizer(stop_words='english')\n",
    "vector_tfidf = vectorizer.fit_transform(X_train.text)\n",
    "print('Vector_tfidf shape:', vector_tfidf.shape)\n",
    "\n",
    "#TFID for Test data\n",
    "vector_tfidf_test = vectorizer.transform(X_test.text)\n",
    "print('Vector_tfidf_test shape:', vector_tfidf_test.shape)\n",
    "\n",
    "#Vocabulary used\n",
    "vocabulary = np.array(vectorizer.get_feature_names_out())\n",
    "print('Amount of Words in Vocab:', vocabulary.shape[0])\n",
    "print('10 Words from Vocab:', vocabulary[100000:100010])"
   ]
  },
  {
   "cell_type": "markdown",
   "id": "e438f35f",
   "metadata": {},
   "source": [
    "<h2>NMF</h2>\n",
    "\n",
    "The first unsupervised method I wanted to use was NMF, which I did with scikit-learn. This factorization breaks the initial sparse matrix into W and H matrices which when multiplied together form a matrix very similar to the original data. As I knew the number of topics a priori, I was able to set the number of topics for the factorization.\n",
    "\n",
    "After completing NMF model and transforming my training and test data, I utlized a function to find the top 10 words for each found topic. From the output, we could see how each topic seems to have words which are highly related in meaning or context indicating NMF was successful. With this large amount of topics, I even found it hard to extract out which topic would belong to which given the top words. Further, I was surprised to find that the same words were found for each topic among both the training and test set. Admittedly, I am not sure as to why this occurred. \n",
    "\n",
    "Lastly, in terms of NMF, I outputted the beta-divergence and the weights associated with each component in the model. The beta-divergence is the difference between WH and the intitial data matrix. As NMF does not provided an exact factorization, maintaining a low beta-divergence indicates a well-performing model. In this case, a beta-divergence of 104 was obtained, which is an adequate result given the number of topics. Lastly, I charted the weights associated with each component in the H matrix and in the model. "
   ]
  },
  {
   "cell_type": "code",
   "execution_count": 12,
   "id": "2a2b6f89",
   "metadata": {},
   "outputs": [],
   "source": [
    "#NMF\n",
    "categories = [val for val in np.unique(y_train)]\n",
    "num_topics = len(categories)\n",
    "\n",
    "#Training NMF\n",
    "model = NMF(n_components=num_topics, init='random', random_state=42)\n",
    "W = model.fit_transform(vector_tfidf)\n",
    "H = model.components_\n",
    "\n",
    "#Testing NMF\n",
    "W_test = model.transform(vector_tfidf_test)\n",
    "H_test = model.components_"
   ]
  },
  {
   "cell_type": "code",
   "execution_count": 13,
   "id": "0b8492a9",
   "metadata": {},
   "outputs": [
    {
     "name": "stdout",
     "output_type": "stream",
     "text": [
      "Top words by topic for training data\n"
     ]
    },
    {
     "data": {
      "text/plain": [
       "['people,gun,dont,think,guns,government,right,like,writes,weapons',\n",
       " 'space,nasa,moon,launch,shuttle,orbit,lunar,henry,station,henryzootorontoedu',\n",
       " 'drive,disk,hard,drives,floppy,boot,hd,cable,apple,internal',\n",
       " 'window,manager,application,motif,expose,server,widget,problem,display,xterm',\n",
       " 'georgia,michael,covington,athens,programs,706,mcovingtaiugaedu,5420358,306027415,n4tmi',\n",
       " 'jesus,christian,christians,christ,church,bible,sandviknewtonapplecom,kent,law,jews',\n",
       " 'scsi,ide,bus,controller,scsi2,scsi1,isa,data,mac,devices',\n",
       " 'god,believe,gods,bible,faith,truth,hell,existence,belief,exist',\n",
       " 'car,bike,cars,writes,article,good,like,insurance,dod,engine',\n",
       " 'morality,keith,objective,moral,schneider,jon,keithccocaltechedu,allan,atheists,livesey',\n",
       " 'israel,israeli,jews,arab,lebanese,arabs,israelis,peace,lebanon,policy',\n",
       " 'turkish,armenian,armenians,armenia,serdar,argic,turks,genocide,turkey,serazumauucp',\n",
       " 'men,homosexual,clayton,cramer,gay,sexual,male,sex,study,partners',\n",
       " 'windows,file,dos,files,31,program,nt,use,run,running',\n",
       " 'university,email,thanks,subject,lines,organization,nntppostinghost,distribution,sale,usa',\n",
       " 'key,chip,encryption,clipper,keys,government,escrow,algorithm,crypto,secure',\n",
       " 'team,game,hockey,players,games,year,play,season,nhl,win',\n",
       " 'gordon,banks,gebcspittedu,n3jxp,chastity,gebcadredslpittedu,shameful,skepticism,intellect,surrender',\n",
       " 'msg,food,sensitivity,chinese,superstition,glutamate,foods,restaurant,steve,reaction',\n",
       " 'card,video,monitor,drivers,vga,cards,diamond,ati,color,driver']"
      ]
     },
     "execution_count": 13,
     "metadata": {},
     "output_type": "execute_result"
    }
   ],
   "source": [
    "#Function to show top words by topic\n",
    "def topics_and_words(H_mat):\n",
    "    top = lambda x: [vocabulary[i] for i in np.argsort(x)[:-10-1:-1]]\n",
    "    topic = ([top(x) for x in H_mat])\n",
    "    return [','.join(x) for x in topic]\n",
    "\n",
    "#Training top words by topic\n",
    "print('Top words by topic for training data')\n",
    "topics_and_words(H)"
   ]
  },
  {
   "cell_type": "code",
   "execution_count": 14,
   "id": "ab21c732",
   "metadata": {},
   "outputs": [
    {
     "name": "stdout",
     "output_type": "stream",
     "text": [
      "Top words by topic for testing data\n"
     ]
    },
    {
     "data": {
      "text/plain": [
       "['people,gun,dont,think,guns,government,right,like,writes,weapons',\n",
       " 'space,nasa,moon,launch,shuttle,orbit,lunar,henry,station,henryzootorontoedu',\n",
       " 'drive,disk,hard,drives,floppy,boot,hd,cable,apple,internal',\n",
       " 'window,manager,application,motif,expose,server,widget,problem,display,xterm',\n",
       " 'georgia,michael,covington,athens,programs,706,mcovingtaiugaedu,5420358,306027415,n4tmi',\n",
       " 'jesus,christian,christians,christ,church,bible,sandviknewtonapplecom,kent,law,jews',\n",
       " 'scsi,ide,bus,controller,scsi2,scsi1,isa,data,mac,devices',\n",
       " 'god,believe,gods,bible,faith,truth,hell,existence,belief,exist',\n",
       " 'car,bike,cars,writes,article,good,like,insurance,dod,engine',\n",
       " 'morality,keith,objective,moral,schneider,jon,keithccocaltechedu,allan,atheists,livesey',\n",
       " 'israel,israeli,jews,arab,lebanese,arabs,israelis,peace,lebanon,policy',\n",
       " 'turkish,armenian,armenians,armenia,serdar,argic,turks,genocide,turkey,serazumauucp',\n",
       " 'men,homosexual,clayton,cramer,gay,sexual,male,sex,study,partners',\n",
       " 'windows,file,dos,files,31,program,nt,use,run,running',\n",
       " 'university,email,thanks,subject,lines,organization,nntppostinghost,distribution,sale,usa',\n",
       " 'key,chip,encryption,clipper,keys,government,escrow,algorithm,crypto,secure',\n",
       " 'team,game,hockey,players,games,year,play,season,nhl,win',\n",
       " 'gordon,banks,gebcspittedu,n3jxp,chastity,gebcadredslpittedu,shameful,skepticism,intellect,surrender',\n",
       " 'msg,food,sensitivity,chinese,superstition,glutamate,foods,restaurant,steve,reaction',\n",
       " 'card,video,monitor,drivers,vga,cards,diamond,ati,color,driver']"
      ]
     },
     "execution_count": 14,
     "metadata": {},
     "output_type": "execute_result"
    }
   ],
   "source": [
    "#Testing top words\n",
    "print('Top words by topic for testing data')\n",
    "topics_and_words(H_test)"
   ]
  },
  {
   "cell_type": "code",
   "execution_count": 15,
   "id": "f6c8f920",
   "metadata": {},
   "outputs": [],
   "source": [
    "# print(mapping)\n",
    "# [talk.politics.guns, sci.space, comp.sys.mac.hardware, _, _ soc.religion.christian, _, talk.religion.misc, _]\n",
    "# [alt.atheism, talk.politics.mideast, talk.politics.misc, _, _, sci.crypt, rec.sport.hockey, _, c1omp.graphics]"
   ]
  },
  {
   "cell_type": "code",
   "execution_count": 16,
   "id": "ead5a61d",
   "metadata": {},
   "outputs": [
    {
     "name": "stdout",
     "output_type": "stream",
     "text": [
      "Beta-divergence: 104.09253379460047\n"
     ]
    },
    {
     "data": {
      "image/png": "[encoded data removed]",
      "text/plain": [
       "<Figure size 432x288 with 1 Axes>"
      ]
     },
     "metadata": {
      "needs_background": "light"
     },
     "output_type": "display_data"
    }
   ],
   "source": [
    "#Beta-divergence and weights by components\n",
    "plt.plot(model.components_[0])\n",
    "plt.title(label='Weights Associated with Each Component in H Matrix')\n",
    "#Beta-divergence is the difference between WH and the intial dataset as WH are not an exact match of the data.\n",
    "print('Beta-divergence:', model.reconstruction_err_)"
   ]
  },
  {
   "cell_type": "markdown",
   "id": "cd163a82",
   "metadata": {},
   "source": [
    "<h2>SVD</h2>\n",
    "\n",
    "After, NMF I wanted to utilize another decomposition method of svd. This method produces an exact decomposition of the intitial data matrix. This results in higher precision among the mathematics; however, it also takes much longer to perform and is much more computationally expensive. Due to this, I utlized a randomized_svd method from scikit-learn. This method has reduced accuracy and precision, but allowed for manageability on my personal computer. Instead of decomposing the entire data matrix, this method randomly utlizes a part of the intitial data matrix, giving its performance changes. \n",
    "\n",
    "Further, I decided to not utilize tfidf vectors for this method, but instead utilzied count vectors of the words in the text. This produced the same length of the vocabulary. When the svd was performed, I then utlilized my function to find the top 10 words per topic in the training and testing dataset. It was here I received my biggest surprise of the project, when the top word for our first topic was 'maxaxaxaxaxaxaxaxaxaxaxaxaxaxax'. This word surely has high signfiance, but it is also surely a word that was not used often. Thus, we could see the effect of utlizing the count_vector versus the tfidf vector. TFIDF bases importance on the number of times a word appears in a document which may have seen the bizzare word not being found in the top words for topic. In the test set, we did not find any such words which were surprising to me. After this, I then plotted the singular values of each component from svd. These singluar values are a part of the decomposition."
   ]
  },
  {
   "cell_type": "code",
   "execution_count": 17,
   "id": "638f7dbe",
   "metadata": {},
   "outputs": [
    {
     "name": "stdout",
     "output_type": "stream",
     "text": [
      "Count vector train shape: (11314, 138397)\n",
      "Count vector test shape: (7532, 138397)\n"
     ]
    }
   ],
   "source": [
    "#Vectorizing on basic counts instead of tdidf as svd is much more computationally heavy\n",
    "count_vec = CountVectorizer(stop_words='english')\n",
    "vectors_train = count_vec.fit_transform(X_train.text).todense() \n",
    "print('Count vector train shape:', vectors_train.shape)\n",
    "\n",
    "vectors_test = count_vec.transform(X_test.text).todense()\n",
    "print('Count vector test shape:', vectors_test.shape)"
   ]
  },
  {
   "cell_type": "code",
   "execution_count": 18,
   "id": "9cd09617",
   "metadata": {
    "scrolled": false
   },
   "outputs": [],
   "source": [
    "u, s, v = randomized_svd(vectors_train, 20, random_state = 42, n_iter=2)"
   ]
  },
  {
   "cell_type": "code",
   "execution_count": 19,
   "id": "d902a099",
   "metadata": {},
   "outputs": [
    {
     "name": "stdout",
     "output_type": "stream",
     "text": [
      "Top 10 words by topics for train data in randomized SVD\n"
     ]
    },
    {
     "data": {
      "text/plain": [
       "['maxaxaxaxaxaxaxaxaxaxaxaxaxaxax,mg9vg9vg9vg9vg9vg9vg9vg9vg9vg9vg9vg9vg9vg9vg9v,14,cliff,pwisemansalmonusdedu,maxaxaxaxaxaxaxaxaxaxaxaxaxaxaxq,end,subject,lines,organization',\n",
       " 'file,use,people,dont,subject,know,like,new,available,information',\n",
       " 'db,mov,byte,bits,blbh,push,pop,si,di,cx',\n",
       " 'file,program,jpeg,image,available,entry,use,files,information,output',\n",
       " '14,10,16,12,15,13,25,11,20,18',\n",
       " 'file,mr,stephanopoulos,gun,president,oname,entry,output,going,said',\n",
       " 'stephanopoulos,mr,president,image,jpeg,available,package,data,going,software',\n",
       " 'jpeg,image,gif,images,people,format,didnt,dont,said,color',\n",
       " 'entry,program,oname,wire,wiring,output,char,rules,subject,entries',\n",
       " 'wire,file,wiring,gun,use,drive,ground,neutral,control,disk',\n",
       " 'hockey,jpeg,wire,wiring,league,team,nhl,new,season,image',\n",
       " 'drive,disk,drives,hard,bios,rom,controller,card,feature,scsi',\n",
       " 'widget,window,available,application,motif,subject,file,set,xt,resource',\n",
       " 'didnt,said,wire,wiring,went,apartment,anonymous,internet,armenians,mamma',\n",
       " 'space,launch,administration,program,government,russian,war,turkish,satellite,south',\n",
       " 'god,jesus,war,south,secret,turkish,new,rockefeller,widget,jews',\n",
       " '550,turkish,wsh,la,mtl,jews,00,chi,war,key',\n",
       " 'turkish,25,war,jews,secret,government,turkey,south,new,jpeg',\n",
       " 'image,god,graphics,data,3d,ftp,package,send,mail,wire',\n",
       " 'turkish,jews,health,turkey,university,entry,medical,armenian,25,number']"
      ]
     },
     "execution_count": 19,
     "metadata": {},
     "output_type": "execute_result"
    }
   ],
   "source": [
    "#Top words by topic for training data\n",
    "print('Top 10 words by topics for train data in randomized SVD')\n",
    "topics_and_words(v)"
   ]
  },
  {
   "cell_type": "code",
   "execution_count": 26,
   "id": "76092914",
   "metadata": {},
   "outputs": [
    {
     "data": {
      "text/plain": [
       "[<matplotlib.lines.Line2D at 0x7f99c45fc650>]"
      ]
     },
     "execution_count": 26,
     "metadata": {},
     "output_type": "execute_result"
    },
    {
     "data": {
      "image/png": "[encoded data removed]",
      "text/plain": [
       "<Figure size 432x288 with 1 Axes>"
      ]
     },
     "metadata": {
      "needs_background": "light"
     },
     "output_type": "display_data"
    }
   ],
   "source": [
    "plt.plot(s)"
   ]
  },
  {
   "cell_type": "code",
   "execution_count": 20,
   "id": "3b922bfc",
   "metadata": {},
   "outputs": [],
   "source": [
    "u_test, s_test, v_test = randomized_svd(vectors_test, 20, random_state=42, n_iter=2)"
   ]
  },
  {
   "cell_type": "code",
   "execution_count": 21,
   "id": "199d9ea4",
   "metadata": {},
   "outputs": [
    {
     "name": "stdout",
     "output_type": "stream",
     "text": [
      "Top 10 Words by Topic Among Testing Data\n"
     ]
    },
    {
     "data": {
      "text/plain": [
       "['jpeg,image,file,gif,use,images,version,available,files,format',\n",
       " 'jehovah,god,lord,elohim,said,people,christ,think,father,know',\n",
       " 'jehovah,jpeg,elohim,lord,god,image,christ,father,gif,mcconkie',\n",
       " 'graphics,windows,software,dos,mouse,ftp,data,server,disk,network',\n",
       " 'ms,myers,president,windows,dos,think,mouse,mr,stephanopoulos,mbytes',\n",
       " '25,venus,spacecraft,solar,ms,planets,earth,planet,surface,space',\n",
       " '25,75,54,cancer,102,33,11,141,19,medical',\n",
       " 'image,data,myers,president,mr,stephanopoulos,ms,available,package,think',\n",
       " 'openwindows,use,25,xview,sun,look,myers,file,president,stephanopoulos',\n",
       " 'adl,bullock,openwindows,gerard,information,cancer,francisco,san,use,police',\n",
       " '25,said,armenians,started,went,adl,door,didnt,armenian,children',\n",
       " 'adl,bullock,25,gerard,subject,lines,organization,writes,san,article',\n",
       " 'mr,stephanopoulos,general,attorney,president,questions,disk,george,software,question',\n",
       " '100,jehovah,appears,art,organization,lines,elohim,300,university,120',\n",
       " 'files,file,disk,mac,jehovah,stuffit,questions,youre,hard,send',\n",
       " '100,appears,god,art,files,120,300,1st,disk,wolverine',\n",
       " 'armenian,kuwait,azerbaijan,turkish,russian,university,armenia,government,istanbul,ar',\n",
       " 'graphics,mail,send,ray,jpeg,3d,objects,subject,rayshade,format',\n",
       " 'god,azerbaijan,stephanopoulos,organization,subject,lines,love,armenian,russian,mr',\n",
       " 'kuwait,azerbaijan,sheikh,god,iraq,kuwaiti,british,russian,oil,president']"
      ]
     },
     "execution_count": 21,
     "metadata": {},
     "output_type": "execute_result"
    }
   ],
   "source": [
    "#Top words by topic for testing data\n",
    "print('Top 10 Words by Topic Among Testing Data')\n",
    "topics_and_words(v_test)"
   ]
  },
  {
   "cell_type": "code",
   "execution_count": 27,
   "id": "cedc6ebd",
   "metadata": {},
   "outputs": [
    {
     "data": {
      "text/plain": [
       "[<matplotlib.lines.Line2D at 0x7f99c45f2a10>]"
      ]
     },
     "execution_count": 27,
     "metadata": {},
     "output_type": "execute_result"
    },
    {
     "data": {
      "image/png": "[encoded data removed]",
      "text/plain": [
       "<Figure size 432x288 with 1 Axes>"
      ]
     },
     "metadata": {
      "needs_background": "light"
     },
     "output_type": "display_data"
    }
   ],
   "source": [
    "plt.plot(s_test)"
   ]
  },
  {
   "cell_type": "code",
   "execution_count": null,
   "id": "5d7730b5",
   "metadata": {},
   "outputs": [],
   "source": []
  }
 ],
 "metadata": {
  "kernelspec": {
   "display_name": "Python 3 (ipykernel)",
   "language": "python",
   "name": "python3"
  },
  "language_info": {
   "codemirror_mode": {
    "name": "ipython",
    "version": 3
   },
   "file_extension": ".py",
   "mimetype": "text/x-python",
   "name": "python",
   "nbconvert_exporter": "python",
   "pygments_lexer": "ipython3",
   "version": "3.7.7"
  }
 },
 "nbformat": 4,
 "nbformat_minor": 5
}
